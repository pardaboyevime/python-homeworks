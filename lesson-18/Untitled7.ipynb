{
 "cells": [
  {
   "cell_type": "code",
   "execution_count": null,
   "id": "02a478cc",
   "metadata": {},
   "outputs": [],
   "source": [
    "# homework 3\n",
    "# 1  Select Female Passengers in Class 1 with Ages between 20 and 30: Extract a DataFrame containing female passengers in Class 1 with ages between 20 and 30.\n",
    "df['Age'] = df['Age'].astype(int)\n",
    "df[(df['Sex'].str.lower() == 'female') & (df['Age'].between(20,30))]\n",
    "# 2 Filter Passengers Who Paid More than $100: Create a DataFrame with passengers who paid a fare greater than $100.\n",
    "df[df['Fare'] >= 100]\n",
    "# 3 Select Passengers Who Survived and Were Alone: Filter passengers who survived and were traveling alone (no siblings, spouses, parents, or children).\n",
    "df[(df['SibSp'] == 0) & (df['Survived'] == 1)]\n",
    "# 4 Filter Passengers Embarked from 'C' and Paid More Than $50: Create a DataFrame with passengers who embarked from 'C' and paid more than $50.\n",
    "df['Fare'] = df['Fare'].astype(int)\n",
    "df[(df['Embarked'].str.upper() == 'C') & (df['Fare'] >= 50)]\n",
    "# 5 Select Passengers with Siblings or Spouses and Parents or Children: Extract passengers who had both siblings or spouses aboard and parents or children aboard.\n",
    "df[(df['SibSp'] >= 1) & (df['Parch'] >= 1)]\n",
    "# 6 Filter Passengers Aged 15 or Younger Who Didn't Survive: Create a DataFrame with passengers aged 15 or younger who did not survive.\n",
    "df[(df['Survived'] == 0) & (df['Age'] < 15)]\n",
    "# 7 Select Passengers with Cabins and Fare Greater Than $200: Extract passengers with known cabin numbers and a fare greater than $200.\n",
    "df[(df['Cabin'].notna()) & (df['Fare'] > 200)]\n",
    "# 8 Filter Passengers with Odd-Numbered Passenger IDs: Create a DataFrame with passengers whose PassengerId is an odd number.\n",
    "df[df['PassengerId'] % 2 == 1]\n",
    "# 9 Select Passengers with Unique Ticket Numbers: Extract a DataFrame with passengers having unique ticket numbers.\n",
    "print('here are numbers without any duplicate numbers')\n",
    "df[df['Ticket'].duplicated(keep = 'first')]\n",
    "# 10 Filter Passengers with 'Miss' in Their Name and Were in Class 1: Create a DataFrame with female passengers having 'Miss' in their name and were in Class 1.\n",
    "df[(df['Name'].str.lower().str.contains('miss')) & (df['Pclass'] == 1)]"
   ]
  },
  {
   "cell_type": "code",
   "execution_count": null,
   "id": "452d0c60",
   "metadata": {},
   "outputs": [],
   "source": [
    "# homework 2\n",
    "# question 1 Find all questions that were created before 2014\n",
    "df[('creationdate'] = pd.to_datetime(df['creationdate']) , (df['creationdate'].dt.year > 2008))\n",
    "# question 2 Find all questions with a score more than 50\n",
    "df[df['score'] > 50]\n",
    "# question 3 Find all questions with a score between 50 and 100\n",
    "df[df['score'].between(50,100)]\n",
    "# question 4 Find all questions answered by Scott Boston\n",
    "df[df['ans_name'] == 'Scott Boston']\n",
    "# question 5 Find all questions answered by the following 5 users\n",
    "ansnames = ['Mike Pennington','Scott Boston','doug','Nan','Demitri']\n",
    "df[df['ans_name'].isin(ansnames)]\n",
    "# question 6 Find all questions that were created between March, 2014 and October 2014 that were answered by Unutbu and have score less than 5\n",
    "df['creationdate'] = pd.to_datetime(df['creationdate'])\n",
    "df[(df['creationdate'].dt.month.between(3,10)) & (df['ans_name'].str.strip() == 'Unutbu') & (df['score'] <= 5)]\n",
    "# question 7 Find all questions that have score between 5 and 10 or have a view count of greater than 10,000\n",
    "df[(df['score'].between(5,10)) & (df['viewcount'] >= 10000)]\n",
    "# question 8 Find all questions that are not answered by Scott Boston\n",
    "df[~(df['ans_name'].str.strip() == 'Scott Boston')]"
   ]
  },
  {
   "cell_type": "code",
   "execution_count": null,
   "id": "0b11cf01",
   "metadata": {},
   "outputs": [],
   "source": []
  }
 ],
 "metadata": {
  "kernelspec": {
   "display_name": "Python 3 (ipykernel)",
   "language": "python",
   "name": "python3"
  },
  "language_info": {
   "codemirror_mode": {
    "name": "ipython",
    "version": 3
   },
   "file_extension": ".py",
   "mimetype": "text/x-python",
   "name": "python",
   "nbconvert_exporter": "python",
   "pygments_lexer": "ipython3",
   "version": "3.11.2"
  }
 },
 "nbformat": 4,
 "nbformat_minor": 5
}
